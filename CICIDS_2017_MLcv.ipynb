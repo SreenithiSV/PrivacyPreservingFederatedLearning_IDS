{
 "cells": [
  {
   "cell_type": "code",
   "execution_count": 1,
   "id": "61f91e0f",
   "metadata": {},
   "outputs": [],
   "source": [
    "\n",
    "import glob\n",
    "import pandas as pd\n",
    "import numpy as np\n",
    "from sklearn.preprocessing import StandardScaler, LabelEncoder\n",
    "from sklearn.model_selection import train_test_split\n",
    "from sklearn.metrics import accuracy_score, precision_recall_fscore_support, roc_auc_score, average_precision_score\n",
    "from sklearn.tree import DecisionTreeClassifier\n",
    "from sklearn.ensemble import VotingClassifier\n",
    "import matplotlib.pyplot as plt\n",
    "import glob\n",
    "import torch\n",
    "from torch import nn\n",
    "from torch.utils.data import Dataset, DataLoader\n",
    "from sklearn.metrics import accuracy_score, precision_recall_fscore_support, roc_auc_score, average_precision_score\n",
    "import matplotlib.pyplot as plt\n"
   ]
  },
  {
   "cell_type": "code",
   "execution_count": 2,
   "id": "d36bbb37",
   "metadata": {},
   "outputs": [
    {
     "name": "stdout",
     "output_type": "stream",
     "text": [
      "Dataset shape: (2830743, 79)\n",
      "Number of rows: 2830743\n",
      "Number of columns: 79\n",
      "Total cells: 223628697\n"
     ]
    },
    {
     "data": {
      "text/plain": [
       "Index([' Destination Port', ' Flow Duration', ' Total Fwd Packets',\n",
       "       ' Total Backward Packets', 'Total Length of Fwd Packets',\n",
       "       ' Total Length of Bwd Packets', ' Fwd Packet Length Max',\n",
       "       ' Fwd Packet Length Min', ' Fwd Packet Length Mean',\n",
       "       ' Fwd Packet Length Std', 'Bwd Packet Length Max',\n",
       "       ' Bwd Packet Length Min', ' Bwd Packet Length Mean',\n",
       "       ' Bwd Packet Length Std', 'Flow Bytes/s', ' Flow Packets/s',\n",
       "       ' Flow IAT Mean', ' Flow IAT Std', ' Flow IAT Max', ' Flow IAT Min',\n",
       "       'Fwd IAT Total', ' Fwd IAT Mean', ' Fwd IAT Std', ' Fwd IAT Max',\n",
       "       ' Fwd IAT Min', 'Bwd IAT Total', ' Bwd IAT Mean', ' Bwd IAT Std',\n",
       "       ' Bwd IAT Max', ' Bwd IAT Min', 'Fwd PSH Flags', ' Bwd PSH Flags',\n",
       "       ' Fwd URG Flags', ' Bwd URG Flags', ' Fwd Header Length',\n",
       "       ' Bwd Header Length', 'Fwd Packets/s', ' Bwd Packets/s',\n",
       "       ' Min Packet Length', ' Max Packet Length', ' Packet Length Mean',\n",
       "       ' Packet Length Std', ' Packet Length Variance', 'FIN Flag Count',\n",
       "       ' SYN Flag Count', ' RST Flag Count', ' PSH Flag Count',\n",
       "       ' ACK Flag Count', ' URG Flag Count', ' CWE Flag Count',\n",
       "       ' ECE Flag Count', ' Down/Up Ratio', ' Average Packet Size',\n",
       "       ' Avg Fwd Segment Size', ' Avg Bwd Segment Size',\n",
       "       ' Fwd Header Length.1', 'Fwd Avg Bytes/Bulk', ' Fwd Avg Packets/Bulk',\n",
       "       ' Fwd Avg Bulk Rate', ' Bwd Avg Bytes/Bulk', ' Bwd Avg Packets/Bulk',\n",
       "       'Bwd Avg Bulk Rate', 'Subflow Fwd Packets', ' Subflow Fwd Bytes',\n",
       "       ' Subflow Bwd Packets', ' Subflow Bwd Bytes', 'Init_Win_bytes_forward',\n",
       "       ' Init_Win_bytes_backward', ' act_data_pkt_fwd',\n",
       "       ' min_seg_size_forward', 'Active Mean', ' Active Std', ' Active Max',\n",
       "       ' Active Min', 'Idle Mean', ' Idle Std', ' Idle Max', ' Idle Min',\n",
       "       ' Label'],\n",
       "      dtype='object')"
      ]
     },
     "execution_count": 2,
     "metadata": {},
     "output_type": "execute_result"
    }
   ],
   "source": [
    "\n",
    "monday_path = r\"C:\\Users\\SREENITHI\\fed_learning_cicids2017\\MachineLearningCSV\\MachineLearningCVE\\Monday-WorkingHours.pcap_ISCX.csv\"\n",
    "tuesday_path = r\"C:\\Users\\SREENITHI\\fed_learning_cicids2017\\MachineLearningCSV\\MachineLearningCVE\\Tuesday-WorkingHours.pcap_ISCX.csv\"\n",
    "wednesday_path = r\"C:\\Users\\SREENITHI\\fed_learning_cicids2017\\MachineLearningCSV\\MachineLearningCVE\\Wednesday-workingHours.pcap_ISCX.csv\"\n",
    "thursday_m_path = r\"C:\\Users\\SREENITHI\\fed_learning_cicids2017\\MachineLearningCSV\\MachineLearningCVE\\Thursday-WorkingHours-Morning-WebAttacks.pcap_ISCX.csv\"\n",
    "thursday_a_path = r\"C:\\Users\\SREENITHI\\fed_learning_cicids2017\\MachineLearningCSV\\MachineLearningCVE\\Thursday-WorkingHours-Afternoon-Infilteration.pcap_ISCX.csv\"\n",
    "friday_dos_path = r\"C:\\Users\\SREENITHI\\fed_learning_cicids2017\\MachineLearningCSV\\MachineLearningCVE\\Friday-WorkingHours-Afternoon-DDos.pcap_ISCX.csv\"\n",
    "friday_portscan_path = r\"C:\\Users\\SREENITHI\\fed_learning_cicids2017\\MachineLearningCSV\\MachineLearningCVE\\Friday-WorkingHours-Afternoon-PortScan.pcap_ISCX.csv\"\n",
    "friday_morning_path = r\"C:\\Users\\SREENITHI\\fed_learning_cicids2017\\MachineLearningCSV\\MachineLearningCVE\\Friday-WorkingHours-Morning.pcap_ISCX.csv\"\n",
    "\n",
    "monday = pd.read_csv(monday_path)\n",
    "tuesday = pd.read_csv(tuesday_path)\n",
    "wednesday = pd.read_csv(wednesday_path)\n",
    "thursday_m = pd.read_csv(thursday_m_path)\n",
    "thursday_a = pd.read_csv(thursday_a_path)\n",
    "friday_dos = pd.read_csv(friday_dos_path)\n",
    "friday_portscan = pd.read_csv(friday_portscan_path)\n",
    "friday_morning = pd.read_csv(friday_morning_path)\n",
    "data = pd.concat([monday, tuesday, wednesday, thursday_m, thursday_a, \n",
    "                  friday_dos, friday_portscan, friday_morning], ignore_index=True)\n",
    "\n",
    "print(\"Dataset shape:\", data.shape)\n",
    "rows, cols = data.shape\n",
    "print(f'Number of rows: {rows}')\n",
    "print(f'Number of columns: {cols}')\n",
    "print(f'Total cells: {rows * cols}')\n",
    "data.columns"
   ]
  },
  {
   "cell_type": "code",
   "execution_count": 3,
   "id": "81725e49",
   "metadata": {},
   "outputs": [
    {
     "name": "stdout",
     "output_type": "stream",
     "text": [
      "<class 'pandas.core.frame.DataFrame'>\n",
      "RangeIndex: 2830743 entries, 0 to 2830742\n",
      "Data columns (total 79 columns):\n",
      " #   Column                        Dtype  \n",
      "---  ------                        -----  \n",
      " 0    Destination Port             int64  \n",
      " 1    Flow Duration                int64  \n",
      " 2    Total Fwd Packets            int64  \n",
      " 3    Total Backward Packets       int64  \n",
      " 4   Total Length of Fwd Packets   int64  \n",
      " 5    Total Length of Bwd Packets  int64  \n",
      " 6    Fwd Packet Length Max        int64  \n",
      " 7    Fwd Packet Length Min        int64  \n",
      " 8    Fwd Packet Length Mean       float64\n",
      " 9    Fwd Packet Length Std        float64\n",
      " 10  Bwd Packet Length Max         int64  \n",
      " 11   Bwd Packet Length Min        int64  \n",
      " 12   Bwd Packet Length Mean       float64\n",
      " 13   Bwd Packet Length Std        float64\n",
      " 14  Flow Bytes/s                  float64\n",
      " 15   Flow Packets/s               float64\n",
      " 16   Flow IAT Mean                float64\n",
      " 17   Flow IAT Std                 float64\n",
      " 18   Flow IAT Max                 int64  \n",
      " 19   Flow IAT Min                 int64  \n",
      " 20  Fwd IAT Total                 int64  \n",
      " 21   Fwd IAT Mean                 float64\n",
      " 22   Fwd IAT Std                  float64\n",
      " 23   Fwd IAT Max                  int64  \n",
      " 24   Fwd IAT Min                  int64  \n",
      " 25  Bwd IAT Total                 int64  \n",
      " 26   Bwd IAT Mean                 float64\n",
      " 27   Bwd IAT Std                  float64\n",
      " 28   Bwd IAT Max                  int64  \n",
      " 29   Bwd IAT Min                  int64  \n",
      " 30  Fwd PSH Flags                 int64  \n",
      " 31   Bwd PSH Flags                int64  \n",
      " 32   Fwd URG Flags                int64  \n",
      " 33   Bwd URG Flags                int64  \n",
      " 34   Fwd Header Length            int64  \n",
      " 35   Bwd Header Length            int64  \n",
      " 36  Fwd Packets/s                 float64\n",
      " 37   Bwd Packets/s                float64\n",
      " 38   Min Packet Length            int64  \n",
      " 39   Max Packet Length            int64  \n",
      " 40   Packet Length Mean           float64\n",
      " 41   Packet Length Std            float64\n",
      " 42   Packet Length Variance       float64\n",
      " 43  FIN Flag Count                int64  \n",
      " 44   SYN Flag Count               int64  \n",
      " 45   RST Flag Count               int64  \n",
      " 46   PSH Flag Count               int64  \n",
      " 47   ACK Flag Count               int64  \n",
      " 48   URG Flag Count               int64  \n",
      " 49   CWE Flag Count               int64  \n",
      " 50   ECE Flag Count               int64  \n",
      " 51   Down/Up Ratio                int64  \n",
      " 52   Average Packet Size          float64\n",
      " 53   Avg Fwd Segment Size         float64\n",
      " 54   Avg Bwd Segment Size         float64\n",
      " 55   Fwd Header Length.1          int64  \n",
      " 56  Fwd Avg Bytes/Bulk            int64  \n",
      " 57   Fwd Avg Packets/Bulk         int64  \n",
      " 58   Fwd Avg Bulk Rate            int64  \n",
      " 59   Bwd Avg Bytes/Bulk           int64  \n",
      " 60   Bwd Avg Packets/Bulk         int64  \n",
      " 61  Bwd Avg Bulk Rate             int64  \n",
      " 62  Subflow Fwd Packets           int64  \n",
      " 63   Subflow Fwd Bytes            int64  \n",
      " 64   Subflow Bwd Packets          int64  \n",
      " 65   Subflow Bwd Bytes            int64  \n",
      " 66  Init_Win_bytes_forward        int64  \n",
      " 67   Init_Win_bytes_backward      int64  \n",
      " 68   act_data_pkt_fwd             int64  \n",
      " 69   min_seg_size_forward         int64  \n",
      " 70  Active Mean                   float64\n",
      " 71   Active Std                   float64\n",
      " 72   Active Max                   int64  \n",
      " 73   Active Min                   int64  \n",
      " 74  Idle Mean                     float64\n",
      " 75   Idle Std                     float64\n",
      " 76   Idle Max                     int64  \n",
      " 77   Idle Min                     int64  \n",
      " 78   Label                        object \n",
      "dtypes: float64(24), int64(54), object(1)\n",
      "memory usage: 1.7+ GB\n"
     ]
    }
   ],
   "source": [
    "data.info()"
   ]
  },
  {
   "cell_type": "code",
   "execution_count": 4,
   "id": "cb6ecbf8",
   "metadata": {},
   "outputs": [
    {
     "name": "stdout",
     "output_type": "stream",
     "text": [
      "Number of duplicates: 308381\n"
     ]
    }
   ],
   "source": [
    "dups = data[data.duplicated()]\n",
    "print(f'Number of duplicates: {len(dups)}')"
   ]
  },
  {
   "cell_type": "code",
   "execution_count": 5,
   "id": "92619c48",
   "metadata": {},
   "outputs": [
    {
     "data": {
      "text/plain": [
       "(2522362, 79)"
      ]
     },
     "execution_count": 5,
     "metadata": {},
     "output_type": "execute_result"
    }
   ],
   "source": [
    "data.drop_duplicates(inplace = True)\n",
    "data.shape"
   ]
  },
  {
   "cell_type": "code",
   "execution_count": 6,
   "id": "e91359a8",
   "metadata": {},
   "outputs": [
    {
     "name": "stdout",
     "output_type": "stream",
     "text": [
      "Flow Bytes/s    353\n",
      "dtype: int64\n"
     ]
    }
   ],
   "source": [
    "missing_val = data.isna().sum()\n",
    "print(missing_val.loc[missing_val > 0])"
   ]
  },
  {
   "cell_type": "code",
   "execution_count": 7,
   "id": "29952ff2",
   "metadata": {},
   "outputs": [
    {
     "name": "stdout",
     "output_type": "stream",
     "text": [
      "Flow Bytes/s       1211\n",
      " Flow Packets/s    1564\n",
      "dtype: int64\n",
      "Initial missing values: 353\n",
      "Missing values after processing infinite values: 3128\n"
     ]
    }
   ],
   "source": [
    "numeric_cols = data.select_dtypes(include = np.number).columns\n",
    "inf_count = np.isinf(data[numeric_cols]).sum()\n",
    "print(inf_count[inf_count > 0])\n",
    "\n",
    "# Replacing any infinite values (positive or negative) with NaN (not a number)\n",
    "print(f'Initial missing values: {data.isna().sum().sum()}')\n",
    "\n",
    "data.replace([np.inf, -np.inf], np.nan, inplace = True)\n",
    "\n",
    "print(f'Missing values after processing infinite values: {data.isna().sum().sum()}')"
   ]
  },
  {
   "cell_type": "code",
   "execution_count": 8,
   "id": "716cdd1c",
   "metadata": {},
   "outputs": [
    {
     "name": "stdout",
     "output_type": "stream",
     "text": [
      "Flow Bytes/s       1564\n",
      " Flow Packets/s    1564\n",
      "dtype: int64\n"
     ]
    }
   ],
   "source": [
    "missing = data.isna().sum()\n",
    "print(missing.loc[missing > 0])"
   ]
  },
  {
   "cell_type": "code",
   "execution_count": 9,
   "id": "079790d2",
   "metadata": {},
   "outputs": [
    {
     "name": "stdout",
     "output_type": "stream",
     "text": [
      "                 Missing Values  Percentage of Total Values\n",
      "Flow Bytes/s               1564                        0.06\n",
      " Flow Packets/s            1564                        0.06\n"
     ]
    }
   ],
   "source": [
    "# Calculating missing value percentage in the dataset\n",
    "mis_per = (missing / len(data)) * 100\n",
    "mis_table = pd.concat([missing, mis_per.round(2)], axis = 1)\n",
    "mis_table = mis_table.rename(columns = {0 : 'Missing Values', 1 : 'Percentage of Total Values'})\n",
    "\n",
    "print(mis_table.loc[mis_per > 0])"
   ]
  },
  {
   "cell_type": "code",
   "execution_count": 13,
   "id": "4ebb7ab0",
   "metadata": {},
   "outputs": [
    {
     "name": "stdout",
     "output_type": "stream",
     "text": [
      "Median of Flow Bytes/s:  3715.0378579999997\n",
      "Median of Flow Packets/s:  69.742244285\n"
     ]
    }
   ],
   "source": [
    "med_flow_bytes = data['Flow Bytes/s'].median()\n",
    "med_flow_packets = data['Flow Packets/s'].median()\n",
    "\n",
    "print('Median of Flow Bytes/s: ', med_flow_bytes)\n",
    "print('Median of Flow Packets/s: ', med_flow_packets)\n",
    "\n",
    "# Filling missing values with median\n",
    "data['Flow Bytes/s'].fillna(med_flow_bytes, inplace = True)\n",
    "data['Flow Packets/s'].fillna(med_flow_packets, inplace = True)"
   ]
  },
  {
   "cell_type": "code",
   "execution_count": 15,
   "id": "9230a3fe",
   "metadata": {},
   "outputs": [],
   "source": [
    "# Filling missing values with median\n",
    "data['Flow Bytes/s'].fillna(med_flow_bytes, inplace = True)\n",
    "data['Flow Packets/s'].fillna(med_flow_packets, inplace = True)"
   ]
  },
  {
   "cell_type": "code",
   "execution_count": 16,
   "id": "df2e8221",
   "metadata": {},
   "outputs": [
    {
     "name": "stdout",
     "output_type": "stream",
     "text": [
      "Number of 'Flow Bytes/s' missing values: 0\n",
      "Number of 'Flow Packets/s' missing values: 0\n"
     ]
    }
   ],
   "source": [
    "print('Number of \\'Flow Bytes/s\\' missing values:', data['Flow Bytes/s'].isna().sum())\n",
    "print('Number of \\'Flow Packets/s\\' missing values:', data['Flow Packets/s'].isna().sum())"
   ]
  },
  {
   "cell_type": "code",
   "execution_count": 17,
   "id": "8efdd7aa",
   "metadata": {},
   "outputs": [
    {
     "name": "stdout",
     "output_type": "stream",
     "text": [
      "Dropped columns:\n"
     ]
    },
    {
     "data": {
      "text/plain": [
       "Index(['Bwd PSH Flags', 'Bwd URG Flags', 'Fwd Avg Bytes/Bulk',\n",
       "       'Fwd Avg Packets/Bulk', 'Fwd Avg Bulk Rate', 'Bwd Avg Bytes/Bulk',\n",
       "       'Bwd Avg Packets/Bulk', 'Bwd Avg Bulk Rate'],\n",
       "      dtype='object')"
      ]
     },
     "execution_count": 17,
     "metadata": {},
     "output_type": "execute_result"
    }
   ],
   "source": [
    "# Dropping columns with only one unique value\n",
    "num_unique = data.nunique()\n",
    "one_variable = num_unique[num_unique == 1]\n",
    "not_one_variable = num_unique[num_unique > 1].index\n",
    "\n",
    "dropped_cols = one_variable.index\n",
    "data = data[not_one_variable]\n",
    "\n",
    "print('Dropped columns:')\n",
    "dropped_cols"
   ]
  },
  {
   "cell_type": "code",
   "execution_count": 18,
   "id": "a798b4cd",
   "metadata": {},
   "outputs": [
    {
     "name": "stdout",
     "output_type": "stream",
     "text": [
      "Dropped columns:\n"
     ]
    },
    {
     "data": {
      "text/plain": [
       "Index([], dtype='object')"
      ]
     },
     "execution_count": 18,
     "metadata": {},
     "output_type": "execute_result"
    }
   ],
   "source": [
    "# Dropping columns with only one unique value\n",
    "num_unique = data.nunique()\n",
    "one_variable = num_unique[num_unique == 1]\n",
    "not_one_variable = num_unique[num_unique > 1].index\n",
    "\n",
    "dropped_cols = one_variable.index\n",
    "data = data[not_one_variable]\n",
    "\n",
    "print('Dropped columns:')\n",
    "dropped_cols"
   ]
  },
  {
   "cell_type": "code",
   "execution_count": 24,
   "id": "6101d64a",
   "metadata": {},
   "outputs": [
    {
     "name": "stdout",
     "output_type": "stream",
     "text": [
      "Features shape: (2522362, 70)\n",
      "Attacks shape: (2522362,)\n",
      "Unique labels: ['BENIGN' 'FTP-Patator' 'SSH-Patator' 'DoS slowloris' 'DoS Slowhttptest'\n",
      " 'DoS Hulk' 'DoS GoldenEye' 'Heartbleed' 'Web Attack � Brute Force'\n",
      " 'Web Attack � XSS' 'Web Attack � Sql Injection' 'Infiltration' 'DDoS'\n",
      " 'PortScan' 'Bot']\n"
     ]
    }
   ],
   "source": [
    "from sklearn.preprocessing import StandardScaler\n",
    "\n",
    "features = data.drop('Label', axis=1)\n",
    "attacks = data['Label']\n",
    "\n",
    "# Standardize features\n",
    "scaler = StandardScaler()\n",
    "scaled_features = scaler.fit_transform(features)\n",
    "\n",
    "print(\"Features shape:\", features_scaled.shape)\n",
    "print(\"Attacks shape:\", attacks.shape)\n",
    "print(\"Unique labels:\", attacks.unique())\n"
   ]
  },
  {
   "cell_type": "code",
   "execution_count": 25,
   "id": "548ae25a",
   "metadata": {},
   "outputs": [
    {
     "name": "stdout",
     "output_type": "stream",
     "text": [
      "information retained: 99.31%\n"
     ]
    }
   ],
   "source": [
    "from sklearn.decomposition import IncrementalPCA\n",
    "\n",
    "size = len(features.columns) // 2\n",
    "ipca = IncrementalPCA(n_components = size, batch_size = 500)\n",
    "for batch in np.array_split(scaled_features, len(features) // 500):\n",
    "    ipca.partial_fit(batch)\n",
    "\n",
    "print(f'information retained: {sum(ipca.explained_variance_ratio_):.2%}')"
   ]
  },
  {
   "cell_type": "code",
   "execution_count": 26,
   "id": "897f11a2",
   "metadata": {},
   "outputs": [],
   "source": [
    "transformed_features = ipca.transform(scaled_features)\n",
    "new_data = pd.DataFrame(transformed_features, columns = [f'PC{i+1}' for i in range(size)])\n",
    "new_data['Attack Type'] = attacks.values"
   ]
  },
  {
   "cell_type": "code",
   "execution_count": 27,
   "id": "8e7df299",
   "metadata": {},
   "outputs": [
    {
     "data": {
      "text/html": [
       "<div>\n",
       "<style scoped>\n",
       "    .dataframe tbody tr th:only-of-type {\n",
       "        vertical-align: middle;\n",
       "    }\n",
       "\n",
       "    .dataframe tbody tr th {\n",
       "        vertical-align: top;\n",
       "    }\n",
       "\n",
       "    .dataframe thead th {\n",
       "        text-align: right;\n",
       "    }\n",
       "</style>\n",
       "<table border=\"1\" class=\"dataframe\">\n",
       "  <thead>\n",
       "    <tr style=\"text-align: right;\">\n",
       "      <th></th>\n",
       "      <th>PC1</th>\n",
       "      <th>PC2</th>\n",
       "      <th>PC3</th>\n",
       "      <th>PC4</th>\n",
       "      <th>PC5</th>\n",
       "      <th>PC6</th>\n",
       "      <th>PC7</th>\n",
       "      <th>PC8</th>\n",
       "      <th>PC9</th>\n",
       "      <th>PC10</th>\n",
       "      <th>...</th>\n",
       "      <th>PC27</th>\n",
       "      <th>PC28</th>\n",
       "      <th>PC29</th>\n",
       "      <th>PC30</th>\n",
       "      <th>PC31</th>\n",
       "      <th>PC32</th>\n",
       "      <th>PC33</th>\n",
       "      <th>PC34</th>\n",
       "      <th>PC35</th>\n",
       "      <th>Attack Type</th>\n",
       "    </tr>\n",
       "  </thead>\n",
       "  <tbody>\n",
       "    <tr>\n",
       "      <th>0</th>\n",
       "      <td>-2.357605</td>\n",
       "      <td>-0.054980</td>\n",
       "      <td>0.577353</td>\n",
       "      <td>0.734456</td>\n",
       "      <td>3.730369</td>\n",
       "      <td>0.234611</td>\n",
       "      <td>-0.015694</td>\n",
       "      <td>-0.215511</td>\n",
       "      <td>-0.278414</td>\n",
       "      <td>1.087306</td>\n",
       "      <td>...</td>\n",
       "      <td>-0.147827</td>\n",
       "      <td>-0.333229</td>\n",
       "      <td>1.488574</td>\n",
       "      <td>-0.161194</td>\n",
       "      <td>-0.220094</td>\n",
       "      <td>-0.004678</td>\n",
       "      <td>0.002594</td>\n",
       "      <td>0.033000</td>\n",
       "      <td>-0.014335</td>\n",
       "      <td>BENIGN</td>\n",
       "    </tr>\n",
       "    <tr>\n",
       "      <th>1</th>\n",
       "      <td>-2.883852</td>\n",
       "      <td>-0.069937</td>\n",
       "      <td>0.911290</td>\n",
       "      <td>1.763144</td>\n",
       "      <td>8.846136</td>\n",
       "      <td>0.620333</td>\n",
       "      <td>-0.056858</td>\n",
       "      <td>1.106734</td>\n",
       "      <td>1.906381</td>\n",
       "      <td>-2.756490</td>\n",
       "      <td>...</td>\n",
       "      <td>0.280804</td>\n",
       "      <td>-2.345977</td>\n",
       "      <td>2.240673</td>\n",
       "      <td>-0.637403</td>\n",
       "      <td>-0.372210</td>\n",
       "      <td>0.010427</td>\n",
       "      <td>0.000639</td>\n",
       "      <td>0.127035</td>\n",
       "      <td>-0.189619</td>\n",
       "      <td>BENIGN</td>\n",
       "    </tr>\n",
       "    <tr>\n",
       "      <th>2</th>\n",
       "      <td>-2.416927</td>\n",
       "      <td>-0.056683</td>\n",
       "      <td>0.615319</td>\n",
       "      <td>0.850871</td>\n",
       "      <td>4.304212</td>\n",
       "      <td>0.275732</td>\n",
       "      <td>-0.020437</td>\n",
       "      <td>-0.070440</td>\n",
       "      <td>-0.035232</td>\n",
       "      <td>0.664190</td>\n",
       "      <td>...</td>\n",
       "      <td>-0.101782</td>\n",
       "      <td>-0.544394</td>\n",
       "      <td>1.572942</td>\n",
       "      <td>-0.211371</td>\n",
       "      <td>-0.235800</td>\n",
       "      <td>-0.003149</td>\n",
       "      <td>0.002387</td>\n",
       "      <td>0.043104</td>\n",
       "      <td>-0.033774</td>\n",
       "      <td>BENIGN</td>\n",
       "    </tr>\n",
       "    <tr>\n",
       "      <th>3</th>\n",
       "      <td>-2.884703</td>\n",
       "      <td>-0.069978</td>\n",
       "      <td>0.912152</td>\n",
       "      <td>1.765260</td>\n",
       "      <td>8.851561</td>\n",
       "      <td>0.618596</td>\n",
       "      <td>-0.057028</td>\n",
       "      <td>1.104890</td>\n",
       "      <td>1.906808</td>\n",
       "      <td>-2.752517</td>\n",
       "      <td>...</td>\n",
       "      <td>0.279224</td>\n",
       "      <td>-2.333504</td>\n",
       "      <td>2.241475</td>\n",
       "      <td>-0.634668</td>\n",
       "      <td>-0.371014</td>\n",
       "      <td>0.010278</td>\n",
       "      <td>0.000649</td>\n",
       "      <td>0.126691</td>\n",
       "      <td>-0.189582</td>\n",
       "      <td>BENIGN</td>\n",
       "    </tr>\n",
       "    <tr>\n",
       "      <th>4</th>\n",
       "      <td>-1.505246</td>\n",
       "      <td>0.080887</td>\n",
       "      <td>-0.504399</td>\n",
       "      <td>0.290388</td>\n",
       "      <td>-0.539260</td>\n",
       "      <td>0.746153</td>\n",
       "      <td>0.100451</td>\n",
       "      <td>0.732386</td>\n",
       "      <td>-1.145858</td>\n",
       "      <td>-0.563193</td>\n",
       "      <td>...</td>\n",
       "      <td>-0.598816</td>\n",
       "      <td>0.116562</td>\n",
       "      <td>0.794736</td>\n",
       "      <td>-0.207833</td>\n",
       "      <td>0.038410</td>\n",
       "      <td>-0.014006</td>\n",
       "      <td>0.000994</td>\n",
       "      <td>-0.047731</td>\n",
       "      <td>-0.003299</td>\n",
       "      <td>BENIGN</td>\n",
       "    </tr>\n",
       "    <tr>\n",
       "      <th>...</th>\n",
       "      <td>...</td>\n",
       "      <td>...</td>\n",
       "      <td>...</td>\n",
       "      <td>...</td>\n",
       "      <td>...</td>\n",
       "      <td>...</td>\n",
       "      <td>...</td>\n",
       "      <td>...</td>\n",
       "      <td>...</td>\n",
       "      <td>...</td>\n",
       "      <td>...</td>\n",
       "      <td>...</td>\n",
       "      <td>...</td>\n",
       "      <td>...</td>\n",
       "      <td>...</td>\n",
       "      <td>...</td>\n",
       "      <td>...</td>\n",
       "      <td>...</td>\n",
       "      <td>...</td>\n",
       "      <td>...</td>\n",
       "      <td>...</td>\n",
       "    </tr>\n",
       "    <tr>\n",
       "      <th>2522357</th>\n",
       "      <td>-1.967967</td>\n",
       "      <td>-0.033741</td>\n",
       "      <td>0.213324</td>\n",
       "      <td>-0.626711</td>\n",
       "      <td>-1.005926</td>\n",
       "      <td>-0.604078</td>\n",
       "      <td>-0.053547</td>\n",
       "      <td>-0.512359</td>\n",
       "      <td>0.659115</td>\n",
       "      <td>-0.495693</td>\n",
       "      <td>...</td>\n",
       "      <td>-0.208086</td>\n",
       "      <td>0.044167</td>\n",
       "      <td>0.379626</td>\n",
       "      <td>-0.208258</td>\n",
       "      <td>-0.010394</td>\n",
       "      <td>-0.003753</td>\n",
       "      <td>0.000713</td>\n",
       "      <td>-0.022263</td>\n",
       "      <td>0.059741</td>\n",
       "      <td>BENIGN</td>\n",
       "    </tr>\n",
       "    <tr>\n",
       "      <th>2522358</th>\n",
       "      <td>-1.954698</td>\n",
       "      <td>-0.033582</td>\n",
       "      <td>0.193326</td>\n",
       "      <td>-0.720497</td>\n",
       "      <td>-1.224944</td>\n",
       "      <td>-0.852049</td>\n",
       "      <td>-0.072429</td>\n",
       "      <td>-0.599180</td>\n",
       "      <td>0.965421</td>\n",
       "      <td>-0.574084</td>\n",
       "      <td>...</td>\n",
       "      <td>-0.091746</td>\n",
       "      <td>0.197137</td>\n",
       "      <td>0.476501</td>\n",
       "      <td>-0.497588</td>\n",
       "      <td>0.168579</td>\n",
       "      <td>-0.007086</td>\n",
       "      <td>-0.001463</td>\n",
       "      <td>-0.023898</td>\n",
       "      <td>0.061535</td>\n",
       "      <td>BENIGN</td>\n",
       "    </tr>\n",
       "    <tr>\n",
       "      <th>2522359</th>\n",
       "      <td>-1.996934</td>\n",
       "      <td>-0.035517</td>\n",
       "      <td>0.176545</td>\n",
       "      <td>-0.675988</td>\n",
       "      <td>-1.120314</td>\n",
       "      <td>-0.864578</td>\n",
       "      <td>-0.068002</td>\n",
       "      <td>-0.609914</td>\n",
       "      <td>0.831666</td>\n",
       "      <td>-0.306117</td>\n",
       "      <td>...</td>\n",
       "      <td>0.067943</td>\n",
       "      <td>0.023721</td>\n",
       "      <td>-0.048079</td>\n",
       "      <td>-0.146745</td>\n",
       "      <td>0.127080</td>\n",
       "      <td>-0.004200</td>\n",
       "      <td>-0.001254</td>\n",
       "      <td>-0.005818</td>\n",
       "      <td>0.010076</td>\n",
       "      <td>BENIGN</td>\n",
       "    </tr>\n",
       "    <tr>\n",
       "      <th>2522360</th>\n",
       "      <td>-1.978716</td>\n",
       "      <td>-0.034866</td>\n",
       "      <td>0.153766</td>\n",
       "      <td>-0.752165</td>\n",
       "      <td>-1.326923</td>\n",
       "      <td>-1.081898</td>\n",
       "      <td>-0.083984</td>\n",
       "      <td>-0.682888</td>\n",
       "      <td>1.089632</td>\n",
       "      <td>-0.364274</td>\n",
       "      <td>...</td>\n",
       "      <td>0.159911</td>\n",
       "      <td>0.148349</td>\n",
       "      <td>0.032388</td>\n",
       "      <td>-0.356500</td>\n",
       "      <td>0.246884</td>\n",
       "      <td>-0.005660</td>\n",
       "      <td>-0.002753</td>\n",
       "      <td>-0.003974</td>\n",
       "      <td>0.007683</td>\n",
       "      <td>BENIGN</td>\n",
       "    </tr>\n",
       "    <tr>\n",
       "      <th>2522361</th>\n",
       "      <td>-2.037825</td>\n",
       "      <td>-0.036724</td>\n",
       "      <td>0.233544</td>\n",
       "      <td>-0.517331</td>\n",
       "      <td>-0.777526</td>\n",
       "      <td>-0.481719</td>\n",
       "      <td>-0.039249</td>\n",
       "      <td>-0.485866</td>\n",
       "      <td>0.352891</td>\n",
       "      <td>-0.179370</td>\n",
       "      <td>...</td>\n",
       "      <td>-0.132859</td>\n",
       "      <td>-0.240047</td>\n",
       "      <td>-0.198529</td>\n",
       "      <td>0.387148</td>\n",
       "      <td>-0.173767</td>\n",
       "      <td>0.000337</td>\n",
       "      <td>0.002814</td>\n",
       "      <td>-0.010185</td>\n",
       "      <td>0.008783</td>\n",
       "      <td>BENIGN</td>\n",
       "    </tr>\n",
       "  </tbody>\n",
       "</table>\n",
       "<p>2522362 rows × 36 columns</p>\n",
       "</div>"
      ],
      "text/plain": [
       "              PC1       PC2       PC3       PC4       PC5       PC6       PC7  \\\n",
       "0       -2.357605 -0.054980  0.577353  0.734456  3.730369  0.234611 -0.015694   \n",
       "1       -2.883852 -0.069937  0.911290  1.763144  8.846136  0.620333 -0.056858   \n",
       "2       -2.416927 -0.056683  0.615319  0.850871  4.304212  0.275732 -0.020437   \n",
       "3       -2.884703 -0.069978  0.912152  1.765260  8.851561  0.618596 -0.057028   \n",
       "4       -1.505246  0.080887 -0.504399  0.290388 -0.539260  0.746153  0.100451   \n",
       "...           ...       ...       ...       ...       ...       ...       ...   \n",
       "2522357 -1.967967 -0.033741  0.213324 -0.626711 -1.005926 -0.604078 -0.053547   \n",
       "2522358 -1.954698 -0.033582  0.193326 -0.720497 -1.224944 -0.852049 -0.072429   \n",
       "2522359 -1.996934 -0.035517  0.176545 -0.675988 -1.120314 -0.864578 -0.068002   \n",
       "2522360 -1.978716 -0.034866  0.153766 -0.752165 -1.326923 -1.081898 -0.083984   \n",
       "2522361 -2.037825 -0.036724  0.233544 -0.517331 -0.777526 -0.481719 -0.039249   \n",
       "\n",
       "              PC8       PC9      PC10  ...      PC27      PC28      PC29  \\\n",
       "0       -0.215511 -0.278414  1.087306  ... -0.147827 -0.333229  1.488574   \n",
       "1        1.106734  1.906381 -2.756490  ...  0.280804 -2.345977  2.240673   \n",
       "2       -0.070440 -0.035232  0.664190  ... -0.101782 -0.544394  1.572942   \n",
       "3        1.104890  1.906808 -2.752517  ...  0.279224 -2.333504  2.241475   \n",
       "4        0.732386 -1.145858 -0.563193  ... -0.598816  0.116562  0.794736   \n",
       "...           ...       ...       ...  ...       ...       ...       ...   \n",
       "2522357 -0.512359  0.659115 -0.495693  ... -0.208086  0.044167  0.379626   \n",
       "2522358 -0.599180  0.965421 -0.574084  ... -0.091746  0.197137  0.476501   \n",
       "2522359 -0.609914  0.831666 -0.306117  ...  0.067943  0.023721 -0.048079   \n",
       "2522360 -0.682888  1.089632 -0.364274  ...  0.159911  0.148349  0.032388   \n",
       "2522361 -0.485866  0.352891 -0.179370  ... -0.132859 -0.240047 -0.198529   \n",
       "\n",
       "             PC30      PC31      PC32      PC33      PC34      PC35  \\\n",
       "0       -0.161194 -0.220094 -0.004678  0.002594  0.033000 -0.014335   \n",
       "1       -0.637403 -0.372210  0.010427  0.000639  0.127035 -0.189619   \n",
       "2       -0.211371 -0.235800 -0.003149  0.002387  0.043104 -0.033774   \n",
       "3       -0.634668 -0.371014  0.010278  0.000649  0.126691 -0.189582   \n",
       "4       -0.207833  0.038410 -0.014006  0.000994 -0.047731 -0.003299   \n",
       "...           ...       ...       ...       ...       ...       ...   \n",
       "2522357 -0.208258 -0.010394 -0.003753  0.000713 -0.022263  0.059741   \n",
       "2522358 -0.497588  0.168579 -0.007086 -0.001463 -0.023898  0.061535   \n",
       "2522359 -0.146745  0.127080 -0.004200 -0.001254 -0.005818  0.010076   \n",
       "2522360 -0.356500  0.246884 -0.005660 -0.002753 -0.003974  0.007683   \n",
       "2522361  0.387148 -0.173767  0.000337  0.002814 -0.010185  0.008783   \n",
       "\n",
       "         Attack Type  \n",
       "0             BENIGN  \n",
       "1             BENIGN  \n",
       "2             BENIGN  \n",
       "3             BENIGN  \n",
       "4             BENIGN  \n",
       "...              ...  \n",
       "2522357       BENIGN  \n",
       "2522358       BENIGN  \n",
       "2522359       BENIGN  \n",
       "2522360       BENIGN  \n",
       "2522361       BENIGN  \n",
       "\n",
       "[2522362 rows x 36 columns]"
      ]
     },
     "execution_count": 27,
     "metadata": {},
     "output_type": "execute_result"
    }
   ],
   "source": [
    "new_data"
   ]
  },
  {
   "cell_type": "code",
   "execution_count": 28,
   "id": "4ad5ea37",
   "metadata": {},
   "outputs": [
    {
     "name": "stdout",
     "output_type": "stream",
     "text": [
      "0    7502\n",
      "1    7498\n",
      "Name: Attack Type, dtype: int64\n"
     ]
    }
   ],
   "source": [
    "# For cross validation\n",
    "from sklearn.model_selection import cross_val_score\n",
    "# Creating a balanced dataset for Binary Classification\n",
    "normal_traffic = new_data.loc[new_data['Attack Type'] == 'BENIGN']\n",
    "intrusions = new_data.loc[new_data['Attack Type'] != 'BENIGN']\n",
    "\n",
    "normal_traffic = normal_traffic.sample(n = len(intrusions), replace = False)\n",
    "\n",
    "ids_data = pd.concat([intrusions, normal_traffic])\n",
    "ids_data['Attack Type'] = np.where((ids_data['Attack Type'] == 'BENIGN'), 0, 1)\n",
    "bc_data = ids_data.sample(n = 15000)\n",
    "\n",
    "print(bc_data['Attack Type'].value_counts())"
   ]
  },
  {
   "cell_type": "code",
   "execution_count": 29,
   "id": "7fc85d41",
   "metadata": {},
   "outputs": [],
   "source": [
    "# Splitting the data into features (X) and target (y)\n",
    "from sklearn.model_selection import train_test_split\n",
    "\n",
    "X_bc = bc_data.drop('Attack Type', axis = 1)\n",
    "y_bc = bc_data['Attack Type']\n",
    "\n",
    "X_train_bc, X_test_bc, y_train_bc, y_test_bc = train_test_split(X_bc, y_bc, test_size = 0.25, random_state = 0)"
   ]
  },
  {
   "cell_type": "code",
   "execution_count": 30,
   "id": "2c9d5931",
   "metadata": {},
   "outputs": [
    {
     "data": {
      "text/plain": [
       "BENIGN                        2096484\n",
       "DoS Hulk                       172849\n",
       "DDoS                           128016\n",
       "PortScan                        90819\n",
       "DoS GoldenEye                   10286\n",
       "FTP-Patator                      5933\n",
       "DoS slowloris                    5385\n",
       "DoS Slowhttptest                 5228\n",
       "SSH-Patator                      3219\n",
       "Bot                              1953\n",
       "Web Attack � Brute Force         1470\n",
       "Web Attack � XSS                  652\n",
       "Infiltration                       36\n",
       "Web Attack � Sql Injection         21\n",
       "Heartbleed                         11\n",
       "Name: Attack Type, dtype: int64"
      ]
     },
     "execution_count": 30,
     "metadata": {},
     "output_type": "execute_result"
    }
   ],
   "source": [
    "new_data['Attack Type'].value_counts()"
   ]
  },
  {
   "cell_type": "code",
   "execution_count": 32,
   "id": "8166d027",
   "metadata": {},
   "outputs": [
    {
     "data": {
      "text/plain": [
       "BENIGN              5000\n",
       "DoS Hulk            5000\n",
       "DDoS                5000\n",
       "PortScan            5000\n",
       "DoS GoldenEye       5000\n",
       "FTP-Patator         5000\n",
       "DoS slowloris       5000\n",
       "DoS Slowhttptest    5000\n",
       "SSH-Patator         3219\n",
       "Bot                 1953\n",
       "Name: Attack Type, dtype: int64"
      ]
     },
     "execution_count": 32,
     "metadata": {},
     "output_type": "execute_result"
    }
   ],
   "source": [
    "class_counts = new_data['Attack Type'].value_counts()\n",
    "selected_classes = class_counts[class_counts > 1950]\n",
    "class_names = selected_classes.index\n",
    "selected = new_data[new_data['Attack Type'].isin(class_names)]\n",
    "\n",
    "dfs = []\n",
    "for name in class_names:\n",
    "    df = selected[selected['Attack Type'] == name]\n",
    "    if len(df) > 5000:\n",
    "        df = df.sample(n=5000, random_state=0)\n",
    "    # Otherwise, keep all rows (do not sample more than available)\n",
    "    dfs.append(df)\n",
    "\n",
    "df = pd.concat(dfs, ignore_index = True)\n",
    "df['Attack Type'].value_counts()"
   ]
  },
  {
   "cell_type": "code",
   "execution_count": 33,
   "id": "0c01c451",
   "metadata": {},
   "outputs": [
    {
     "data": {
      "text/plain": [
       "PortScan            5000\n",
       "FTP-Patator         5000\n",
       "SSH-Patator         5000\n",
       "DoS GoldenEye       5000\n",
       "DoS Hulk            5000\n",
       "Bot                 5000\n",
       "DoS slowloris       5000\n",
       "DDoS                5000\n",
       "BENIGN              5000\n",
       "DoS Slowhttptest    5000\n",
       "Name: Attack Type, dtype: int64"
      ]
     },
     "execution_count": 33,
     "metadata": {},
     "output_type": "execute_result"
    }
   ],
   "source": [
    "from imblearn.over_sampling import SMOTE\n",
    "\n",
    "X = df.drop('Attack Type', axis=1)\n",
    "y = df['Attack Type']\n",
    "\n",
    "smote = SMOTE(sampling_strategy='auto', random_state=0)\n",
    "X_upsampled, y_upsampled = smote.fit_resample(X, y)\n",
    "\n",
    "blnc_data = pd.DataFrame(X_upsampled)\n",
    "blnc_data['Attack Type'] = y_upsampled\n",
    "blnc_data = blnc_data.sample(frac=1)\n",
    "\n",
    "blnc_data['Attack Type'].value_counts()"
   ]
  },
  {
   "cell_type": "code",
   "execution_count": 34,
   "id": "6178a1f8",
   "metadata": {},
   "outputs": [],
   "source": [
    "features = blnc_data.drop('Attack Type', axis = 1)\n",
    "labels = blnc_data['Attack Type']\n",
    "\n",
    "X_train, X_test, y_train, y_test = train_test_split(features, labels, test_size = 0.25, random_state = 0)"
   ]
  },
  {
   "cell_type": "code",
   "execution_count": null,
   "id": "e201cd5f",
   "metadata": {},
   "outputs": [
    {
     "name": "stdout",
     "output_type": "stream",
     "text": [
      "Random Forest Model 1\n",
      "Cross-validation scores: 0.94, 0.94, 0.93, 0.94, 0.92\n",
      "Mean cross-validation score: 0.93\n",
      "Training Accuracy: 0.94\n",
      "Test Accuracy: 0.93\n"
     ]
    }
   ],
   "source": [
    "from sklearn.ensemble import RandomForestClassifier\n",
    "from sklearn.model_selection import cross_val_score\n",
    "from sklearn.metrics import accuracy_score\n",
    "#n_estimators=10\n",
    "rf1 = RandomForestClassifier(\n",
    "    n_estimators=10, \n",
    "    max_depth=6, \n",
    "    max_features=None, \n",
    "    random_state=0\n",
    ")\n",
    "rf1.fit(X_train, y_train)\n",
    "\n",
    "# Cross-validation scores (these are accuracies per fold)\n",
    "cv_rf1 = cross_val_score(rf1, X_train, y_train, cv=5)\n",
    "\n",
    "# Accuracy on training and test set\n",
    "train_acc = accuracy_score(y_train, rf1.predict(X_train))\n",
    "test_acc = accuracy_score(y_test, rf1.predict(X_test))\n",
    "\n",
    "print(\"Random Forest Model 1\")\n",
    "print(f\"Cross-validation scores: {', '.join(map(lambda x: f'{x:.2f}', cv_rf1))}\")\n",
    "print(f\"Mean cross-validation score: {cv_rf1.mean():.2f}\")\n",
    "print(f\"Training Accuracy: {train_acc:.2f}\")\n",
    "print(f\"Test Accuracy: {test_acc:.2f}\")\n"
   ]
  },
  {
   "cell_type": "code",
   "execution_count": null,
   "id": "a6d93f09",
   "metadata": {},
   "outputs": [
    {
     "name": "stdout",
     "output_type": "stream",
     "text": [
      "\n",
      "Random Forest Model 2\n",
      "Cross-validation scores: 0.94, 0.94, 0.94, 0.94, 0.92\n",
      "Mean cross-validation score: 0.94\n",
      "Training Accuracy: 0.94\n",
      "Test Accuracy: 0.93\n"
     ]
    }
   ],
   "source": [
    "\n",
    "#n_estimators=15\n",
    "rf2 = RandomForestClassifier(\n",
    "    n_estimators=15, \n",
    "    max_depth=6, \n",
    "    max_features=None, \n",
    "    random_state=0\n",
    ")\n",
    "rf2.fit(X_train, y_train)\n",
    "\n",
    "# Cross-validation scores\n",
    "cv_rf2 = cross_val_score(rf2, X_train, y_train, cv=5)\n",
    "\n",
    "# Accuracy on training and test set\n",
    "train_acc2 = accuracy_score(y_train, rf2.predict(X_train))\n",
    "test_acc2 = accuracy_score(y_test, rf2.predict(X_test))\n",
    "\n",
    "print(\"\\nRandom Forest Model 2\")\n",
    "print(f\"Cross-validation scores: {', '.join(map(lambda x: f'{x:.2f}', cv_rf2))}\")\n",
    "print(f\"Mean cross-validation score: {cv_rf2.mean():.2f}\")\n",
    "print(f\"Training Accuracy: {train_acc2:.2f}\")\n",
    "print(f\"Test Accuracy: {test_acc2:.2f}\")\n"
   ]
  },
  {
   "cell_type": "code",
   "execution_count": null,
   "id": "b8a80ba8",
   "metadata": {},
   "outputs": [
    {
     "name": "stdout",
     "output_type": "stream",
     "text": [
      "Decision Tree Model 1\n",
      "\n",
      "Cross-validation scores: 0.9216, 0.9288, 0.9181333333333334, 0.9314666666666667, 0.9210666666666667\n",
      "\n",
      "Mean cross-validation score: 0.92\n"
     ]
    }
   ],
   "source": [
    "from sklearn.tree import DecisionTreeClassifier\n",
    "#max_depth = 6\n",
    "\n",
    "from sklearn.model_selection import cross_val_score\n",
    "from sklearn.metrics import accuracy_score\n",
    "\n",
    "\n",
    "dt1 = DecisionTreeClassifier(max_depth=6, random_state=0)\n",
    "dt1.fit(X_train, y_train)\n",
    "\n",
    "# Cross-validation scores\n",
    "cv_dt1 = cross_val_score(dt1, X_train, y_train, cv=5)\n",
    "\n",
    "# Training and Test accuracy\n",
    "train_acc = accuracy_score(y_train, dt1.predict(X_train))\n",
    "test_acc = accuracy_score(y_test, dt1.predict(X_test))\n",
    "\n",
    "print(\"Decision Tree Model 1\")\n",
    "print(f\"Cross-validation scores: {', '.join(map(lambda x: f'{x:.2f}', cv_dt1))}\")\n",
    "print(f\"Mean cross-validation score: {cv_dt1.mean():.2f}\")\n",
    "print(f\"Training Accuracy: {train_acc:.2f}\")\n",
    "print(f\"Test Accuracy: {test_acc:.2f}\")\n"
   ]
  },
  {
   "cell_type": "code",
   "execution_count": null,
   "id": "ca80647a",
   "metadata": {},
   "outputs": [
    {
     "name": "stdout",
     "output_type": "stream",
     "text": [
      "Decision Tree Model 2\n",
      "\n",
      "Cross-validation scores: 0.97, 0.98, 0.97, 0.97, 0.97\n",
      "\n",
      "Mean cross-validation score: 0.97\n",
      "Training Accuracy: 0.98\n",
      "Test Accuracy: 0.97\n"
     ]
    }
   ],
   "source": [
    "#max_depth = 8\n",
    "\n",
    "dt2 = DecisionTreeClassifier(max_depth=8)\n",
    "dt2.fit(X_train, y_train)\n",
    "\n",
    "# Cross-validation scores\n",
    "cv_dt2 = cross_val_score(dt2, X_train, y_train, cv=5)\n",
    "\n",
    "print('Decision Tree Model 2')\n",
    "print(f'\\nCross-validation scores:', ', '.join(map(lambda x: f'{x:.2f}', cv_dt2)))\n",
    "print(f'\\nMean cross-validation score: {cv_dt2.mean():.2f}')\n",
    "\n",
    "# Training & Test accuracy\n",
    "train_acc_dt2 = accuracy_score(y_train, dt2.predict(X_train))\n",
    "test_acc_dt2 = accuracy_score(y_test, dt2.predict(X_test))\n",
    "\n",
    "print(f\"Training Accuracy: {train_acc_dt2:.2f}\")\n",
    "print(f\"Test Accuracy: {test_acc_dt2:.2f}\")\n"
   ]
  }
 ],
 "metadata": {
  "kernelspec": {
   "display_name": "Python 3",
   "language": "python",
   "name": "python3"
  },
  "language_info": {
   "codemirror_mode": {
    "name": "ipython",
    "version": 3
   },
   "file_extension": ".py",
   "mimetype": "text/x-python",
   "name": "python",
   "nbconvert_exporter": "python",
   "pygments_lexer": "ipython3",
   "version": "3.10.5"
  }
 },
 "nbformat": 4,
 "nbformat_minor": 5
}
